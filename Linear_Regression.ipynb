{
 "cells": [
  {
   "cell_type": "markdown",
   "metadata": {
    "id": "efbd0f96"
   },
   "source": [
    "Our client is one of the biggest restaurants in Lagos, Nigeria, Mama Tee Restaurant.\n",
    "\n",
    "\n",
    "The objective of the regression task is to predict the amount of tip (gratuity in Nigeria naira) given to a food server based on total_bill, gender, smoker (whether they smoke in the party or not), day (day of the week for the party), time (time of the day whether for lunch or dinner), and size (size of the party) in Mama Tee restaurant.\n",
    "\n",
    "\n",
    "Label: The label for this problem is tip.\n",
    "\n",
    "\n",
    "Features: There are 6 features and they include total bill, gender, smoker, day, time, and size."
   ]
  },
  {
   "cell_type": "code",
   "execution_count": null,
   "metadata": {
    "id": "51de615a"
   },
   "outputs": [],
   "source": [
    "# ! pip install pandas==0.25.3\n",
    "# ! pip install numpy==1.16.5\n",
    "import numpy as np\n",
    "import pandas as pd\n",
    "import matplotlib.pyplot as plt\n",
    "%matplotlib inline\n",
    "import seaborn as sns\n",
    "from pandas_profiling import ProfileReport"
   ]
  },
  {
   "cell_type": "code",
   "execution_count": null,
   "metadata": {
    "id": "d047c07f"
   },
   "outputs": [],
   "source": [
    "\n",
    "tip = pd.read_csv('tips.csv')"
   ]
  },
  {
   "cell_type": "code",
   "execution_count": null,
   "metadata": {
    "colab": {
     "base_uri": "https://localhost:8080/",
     "height": 206
    },
    "id": "284e7dfe",
    "outputId": "9f3b53b3-6efe-4101-fc4c-ce2d2a4e3264"
   },
   "outputs": [],
   "source": [
    "tip.head()"
   ]
  },
  {
   "cell_type": "code",
   "execution_count": null,
   "metadata": {
    "colab": {
     "base_uri": "https://localhost:8080/"
    },
    "id": "351abe12",
    "outputId": "a8ec6141-30c6-40a6-8422-82977ed4c661"
   },
   "outputs": [],
   "source": [
    "tip.shape"
   ]
  },
  {
   "cell_type": "code",
   "execution_count": null,
   "metadata": {
    "colab": {
     "base_uri": "https://localhost:8080/",
     "height": 1000
    },
    "id": "37f10cfa",
    "outputId": "b62b350e-3496-4185-fcbd-160fb5ec75e4"
   },
   "outputs": [],
   "source": [
    "#ProfileReport(tip)"
   ]
  },
  {
   "cell_type": "markdown",
   "metadata": {
    "id": "dcf45fd5"
   },
   "source": [
    "### Relationships with Categorical Variables"
   ]
  },
  {
   "cell_type": "markdown",
   "metadata": {
    "id": "da7f1cc4"
   },
   "source": [
    "### Gender"
   ]
  },
  {
   "cell_type": "code",
   "execution_count": null,
   "metadata": {
    "colab": {
     "base_uri": "https://localhost:8080/",
     "height": 525
    },
    "id": "e0e87fc8",
    "outputId": "ad7d7e68-789e-47b3-b5b9-2051147eeb95"
   },
   "outputs": [],
   "source": [
    "sns.boxplot(x = 'gender', y = 'tip', data = tip)\n",
    "plt.ylabel('Amount of tip')"
   ]
  },
  {
   "cell_type": "markdown",
   "metadata": {
    "id": "cedc5bdb"
   },
   "source": [
    "### Smoker"
   ]
  },
  {
   "cell_type": "code",
   "execution_count": null,
   "metadata": {
    "colab": {
     "base_uri": "https://localhost:8080/",
     "height": 525
    },
    "id": "463b1768",
    "outputId": "50b71228-1599-4e92-ddf2-6b230bb0974b"
   },
   "outputs": [],
   "source": [
    "sns.boxplot(x = 'smoker', y = 'tip', data = tip)\n",
    "plt.ylabel('Amount of tip')"
   ]
  },
  {
   "cell_type": "markdown",
   "metadata": {
    "id": "9f836b72"
   },
   "source": [
    "Smokers and non-smokers gave almost the same amount of tip."
   ]
  },
  {
   "cell_type": "markdown",
   "metadata": {
    "id": "d338d884"
   },
   "source": [
    "### Time"
   ]
  },
  {
   "cell_type": "code",
   "execution_count": null,
   "metadata": {
    "colab": {
     "base_uri": "https://localhost:8080/",
     "height": 525
    },
    "id": "9a53fda2",
    "outputId": "0522d1c3-91cb-4693-fab4-943631922589"
   },
   "outputs": [],
   "source": [
    "sns.boxplot(x = 'time', y = 'tip', data = tip)\n",
    "plt.ylabel('Amount of tip')"
   ]
  },
  {
   "cell_type": "markdown",
   "metadata": {
    "id": "9732dc1c"
   },
   "source": [
    "Lunch and dinner gave almost the same amount of tip."
   ]
  },
  {
   "cell_type": "markdown",
   "metadata": {
    "id": "9b4f84ab"
   },
   "source": [
    "## Let's train the model"
   ]
  },
  {
   "cell_type": "code",
   "execution_count": null,
   "metadata": {
    "id": "f0b8b300"
   },
   "outputs": [],
   "source": [
    "from sklearn import metrics #For evaluating the model built\n",
    "from sklearn.model_selection import train_test_split"
   ]
  },
  {
   "cell_type": "markdown",
   "metadata": {
    "id": "21437153"
   },
   "source": [
    "## We need to split the data into features and label"
   ]
  },
  {
   "cell_type": "code",
   "execution_count": null,
   "metadata": {
    "id": "fb28953c"
   },
   "outputs": [],
   "source": [
    "X = tip.drop([\"tip\"], axis = \"columns\") \n",
    "y = tip[\"tip\"]"
   ]
  },
  {
   "cell_type": "code",
   "execution_count": null,
   "metadata": {
    "colab": {
     "base_uri": "https://localhost:8080/",
     "height": 112
    },
    "id": "6541a23e",
    "outputId": "4c31a6c5-7ef3-41b2-f6df-f1eae23a2b7a"
   },
   "outputs": [],
   "source": [
    "X.head(2)"
   ]
  },
  {
   "cell_type": "code",
   "execution_count": null,
   "metadata": {
    "colab": {
     "base_uri": "https://localhost:8080/",
     "height": 206
    },
    "id": "d8e270a5",
    "outputId": "2064ff89-2ad2-4acc-8eea-cd6a270d730e"
   },
   "outputs": [],
   "source": [
    "X.head()"
   ]
  },
  {
   "cell_type": "code",
   "execution_count": null,
   "metadata": {
    "colab": {
     "base_uri": "https://localhost:8080/"
    },
    "id": "7d5a0041",
    "outputId": "4eef64eb-49a9-4c81-a237-fa814ae613d5"
   },
   "outputs": [],
   "source": [
    "y.head()"
   ]
  },
  {
   "cell_type": "markdown",
   "metadata": {
    "id": "9c96f8c2"
   },
   "source": [
    "#### We need to create a one-hot encoding for all the categorical features in the data because Scikit Learn Linear Regression algorithm cannot work with categorical data directly. \n",
    "#### They require all input variables and output variables to be numeric.\n",
    "#### In this case, we will create a one-hot encoding for gender, smoker, day and time by using `pd.get_dummies()`"
   ]
  },
  {
   "cell_type": "code",
   "execution_count": null,
   "metadata": {
    "colab": {
     "base_uri": "https://localhost:8080/",
     "height": 270
    },
    "id": "7d10a286",
    "outputId": "ef54e2bd-df8f-4194-f8f1-c6be9c1c41a9"
   },
   "outputs": [],
   "source": [
    "X = pd.get_dummies(X)\n",
    "X.head()"
   ]
  },
  {
   "cell_type": "code",
   "execution_count": null,
   "metadata": {
    "colab": {
     "base_uri": "https://localhost:8080/"
    },
    "id": "460175c4",
    "outputId": "3cc752a4-69bf-4f7d-e2ad-a712a7ef242c"
   },
   "outputs": [],
   "source": [
    "X.shape"
   ]
  },
  {
   "cell_type": "markdown",
   "metadata": {
    "id": "9d48171d"
   },
   "source": [
    "#### We will split our dataset (Features (X) and Label (Y)) into training and test data by using `train_test_split()` function from sklearn. The training set will be 80% while the test set will be 20%. The random_state that is set to 42 is for all of us to have the same set of data."
   ]
  },
  {
   "cell_type": "code",
   "execution_count": null,
   "metadata": {
    "id": "84d8802a"
   },
   "outputs": [],
   "source": [
    "X_train, X_test, y_train, y_test = train_test_split(X, y, test_size = 0.20, random_state = 42)"
   ]
  },
  {
   "cell_type": "code",
   "execution_count": null,
   "metadata": {
    "colab": {
     "base_uri": "https://localhost:8080/"
    },
    "id": "2e6bf53f",
    "outputId": "fd29caee-ab04-4dcd-a72a-809e0b9e26dc"
   },
   "outputs": [],
   "source": [
    "\n",
    "from sklearn.linear_model import LinearRegression\n",
    "\n",
    "from sklearn.metrics import f1_score\n",
    "model = LinearRegression()\n",
    "model.fit(X_train, y_train)\n",
    "\n",
    "predictions = model.predict(X_test)\n",
    "predictions[:10]"
   ]
  },
  {
   "cell_type": "code",
   "execution_count": null,
   "metadata": {},
   "outputs": [],
   "source": [
    "# f1_score(y_test, predictions)"
   ]
  },
  {
   "cell_type": "markdown",
   "metadata": {
    "id": "4516fddb"
   },
   "source": [
    "#### Let's compare the actual values and predictions"
   ]
  },
  {
   "cell_type": "code",
   "execution_count": null,
   "metadata": {
    "id": "224eccfb"
   },
   "outputs": [],
   "source": [
    "comparison = pd.DataFrame({'Actual Values':y_test, 'Predictions':predictions})"
   ]
  },
  {
   "cell_type": "code",
   "execution_count": null,
   "metadata": {
    "colab": {
     "base_uri": "https://localhost:8080/"
    },
    "id": "d2d1f0da",
    "outputId": "a07fadbb-7752-4625-be23-6916594cb2a2"
   },
   "outputs": [],
   "source": [
    "comparison.shape"
   ]
  },
  {
   "cell_type": "code",
   "execution_count": null,
   "metadata": {
    "colab": {
     "base_uri": "https://localhost:8080/",
     "height": 990
    },
    "id": "4d7b03e5",
    "outputId": "97c8adf6-bc8e-4a46-977a-3a4f1109c1e4"
   },
   "outputs": [],
   "source": [
    "comparison.head(30)"
   ]
  },
  {
   "cell_type": "code",
   "execution_count": null,
   "metadata": {
    "colab": {
     "base_uri": "https://localhost:8080/"
    },
    "id": "26ef9853",
    "outputId": "70a41f34-daeb-4482-ffd6-87d562fc23c6"
   },
   "outputs": [],
   "source": [
    "#The error\n",
    "y_test - predictions"
   ]
  },
  {
   "cell_type": "code",
   "execution_count": null,
   "metadata": {
    "colab": {
     "base_uri": "https://localhost:8080/"
    },
    "id": "15fe8faa",
    "outputId": "e5cc9dc3-21f3-4c93-c761-72e7cddb98ff"
   },
   "outputs": [],
   "source": [
    "mse = metrics.mean_squared_error(y_test, predictions)\n",
    "print(\"Mean squared error:\", round(mse, 3))\n",
    "\n",
    "rmse = np.sqrt(mse)\n",
    "print(\"Root mean squared error:\", round(rmse, 3))"
   ]
  },
  {
   "cell_type": "code",
   "execution_count": null,
   "metadata": {
    "colab": {
     "base_uri": "https://localhost:8080/"
    },
    "id": "f5cec697",
    "outputId": "a1473939-21ab-409c-9ed8-c608575cbcdd"
   },
   "outputs": [],
   "source": [
    "print(\"Maximum tip:\", np.max(tip['tip']))\n",
    "print(\"Minimum tip:\", np.min(tip['tip']))"
   ]
  },
  {
   "cell_type": "code",
   "execution_count": null,
   "metadata": {
    "id": "TLubxJ4IgQLw"
   },
   "outputs": [],
   "source": []
  }
 ],
 "metadata": {
  "colab": {
   "name": "Linear Regression.ipynb",
   "provenance": []
  },
  "kernelspec": {
   "display_name": "Python 3",
   "language": "python",
   "name": "python3"
  },
  "language_info": {
   "codemirror_mode": {
    "name": "ipython",
    "version": 3
   },
   "file_extension": ".py",
   "mimetype": "text/x-python",
   "name": "python",
   "nbconvert_exporter": "python",
   "pygments_lexer": "ipython3",
   "version": "3.8.8"
  }
 },
 "nbformat": 4,
 "nbformat_minor": 1
}
